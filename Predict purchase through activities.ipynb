{
 "cells": [
  {
   "cell_type": "markdown",
   "metadata": {},
   "source": [
    "# Predicting purchase through user activities\n",
    "description: \n",
    "- The  data is pulled from raw logs of a marketing database. It has three columns that record user activity over time:\n",
    "    user_id: A hash that uniquely identifies the user.\n",
    "    activity_date: The date of the activity\n",
    "    activity_type: The type of activity\n",
    "- Given user activities, can we build a model that predicts which new user will make a purchase in the future?\n",
    "\n",
    "- data has about 5 million logs, with 341568 unique user ids.\n",
    "    \n",
    "Summary of results\n",
    "- if customer support is available, it is the best predictor. Those who received custormer support do purchase.\n",
    "- Otherwise, 'EmailOpen' is the most useful feature to predict purchase, followed by 'FormSubmit', 'EmailClickthrough', 'PageView' and 'WebVisit'."
   ]
  },
  {
   "cell_type": "markdown",
   "metadata": {},
   "source": [
    "## prepare dataframe"
   ]
  },
  {
   "cell_type": "code",
   "execution_count": 6,
   "metadata": {},
   "outputs": [],
   "source": [
    "# load libraries\n",
    "import pandas as pd\n",
    "import numpy as np\n",
    "import matplotlib.pyplot as plt\n",
    "import seaborn as sns\n",
    "plt.style.use('seaborn')\n",
    "%matplotlib inline"
   ]
  },
  {
   "cell_type": "code",
<<<<<<< HEAD
   "execution_count": 7,
=======
   "execution_count": null,
>>>>>>> parent of ceb62bc... Change
   "metadata": {},
   "outputs": [],
   "source": [
    "training = pd.read_csv('./data/training.tsv',sep='\\t',names=['user_id','activity_date','activity_type'])"
   ]
  },
  {
   "cell_type": "code",
   "execution_count": 8,
   "metadata": {},
   "outputs": [
    {
     "data": {
      "text/html": [
       "<div>\n",
       "<style scoped>\n",
       "    .dataframe tbody tr th:only-of-type {\n",
       "        vertical-align: middle;\n",
       "    }\n",
       "\n",
       "    .dataframe tbody tr th {\n",
       "        vertical-align: top;\n",
       "    }\n",
       "\n",
       "    .dataframe thead th {\n",
       "        text-align: right;\n",
       "    }\n",
       "</style>\n",
       "<table border=\"1\" class=\"dataframe\">\n",
       "  <thead>\n",
       "    <tr style=\"text-align: right;\">\n",
       "      <th></th>\n",
       "      <th>user_id</th>\n",
       "      <th>activity_date</th>\n",
       "      <th>activity_type</th>\n",
       "    </tr>\n",
       "  </thead>\n",
       "  <tbody>\n",
       "    <tr>\n",
       "      <th>0</th>\n",
       "      <td>00002acbe042d69</td>\n",
       "      <td>2013-07-11</td>\n",
       "      <td>EmailOpen</td>\n",
       "    </tr>\n",
       "    <tr>\n",
       "      <th>1</th>\n",
       "      <td>00002acbe042d69</td>\n",
       "      <td>2013-07-11</td>\n",
       "      <td>FormSubmit</td>\n",
       "    </tr>\n",
       "    <tr>\n",
       "      <th>2</th>\n",
       "      <td>00002acbe042d69</td>\n",
       "      <td>2013-07-15</td>\n",
       "      <td>EmailOpen</td>\n",
       "    </tr>\n",
       "    <tr>\n",
       "      <th>3</th>\n",
       "      <td>00002acbe042d69</td>\n",
       "      <td>2013-07-17</td>\n",
       "      <td>EmailOpen</td>\n",
       "    </tr>\n",
       "    <tr>\n",
       "      <th>4</th>\n",
       "      <td>00002acbe042d69</td>\n",
       "      <td>2013-07-18</td>\n",
       "      <td>EmailOpen</td>\n",
       "    </tr>\n",
       "  </tbody>\n",
       "</table>\n",
       "</div>"
      ],
      "text/plain": [
       "           user_id activity_date activity_type\n",
       "0  00002acbe042d69    2013-07-11     EmailOpen\n",
       "1  00002acbe042d69    2013-07-11    FormSubmit\n",
       "2  00002acbe042d69    2013-07-15     EmailOpen\n",
       "3  00002acbe042d69    2013-07-17     EmailOpen\n",
       "4  00002acbe042d69    2013-07-18     EmailOpen"
      ]
     },
     "execution_count": 8,
     "metadata": {},
     "output_type": "execute_result"
    }
   ],
   "source": [
    "training.head()"
   ]
  },
  {
   "cell_type": "code",
   "execution_count": 9,
   "metadata": {},
   "outputs": [
    {
     "name": "stdout",
     "output_type": "stream",
     "text": [
      "<class 'pandas.core.frame.DataFrame'>\n",
      "RangeIndex: 4918677 entries, 0 to 4918676\n",
      "Data columns (total 3 columns):\n",
      "user_id          object\n",
      "activity_date    object\n",
      "activity_type    object\n",
      "dtypes: object(3)\n",
      "memory usage: 112.6+ MB\n"
     ]
    }
   ],
   "source": [
    "training.info()"
   ]
  },
  {
   "cell_type": "code",
   "execution_count": 10,
   "metadata": {},
   "outputs": [
    {
     "data": {
      "text/plain": [
       "341568"
      ]
     },
     "execution_count": 10,
     "metadata": {},
     "output_type": "execute_result"
    }
   ],
   "source": [
    "# number of unique user\n",
    "training.user_id.nunique()"
   ]
  },
  {
   "cell_type": "code",
   "execution_count": 11,
   "metadata": {},
   "outputs": [
    {
     "data": {
      "text/plain": [
       "EmailOpen            3191732\n",
       "Purchase              395031\n",
       "WebVisit              384025\n",
       "PageView              382263\n",
       "EmailClickthrough     285568\n",
       "FormSubmit            176067\n",
       "CustomerSupport       103991\n",
       "Name: activity_type, dtype: int64"
      ]
     },
     "execution_count": 11,
     "metadata": {},
     "output_type": "execute_result"
    }
   ],
   "source": [
    "# number and types of activity\n",
    "training.activity_type.value_counts()"
   ]
  },
  {
   "cell_type": "markdown",
   "metadata": {},
   "source": [
    "### group by user_id and activity type"
   ]
  },
  {
   "cell_type": "code",
   "execution_count": 12,
   "metadata": {},
   "outputs": [
    {
     "data": {
      "text/html": [
       "<div>\n",
       "<style scoped>\n",
       "    .dataframe tbody tr th:only-of-type {\n",
       "        vertical-align: middle;\n",
       "    }\n",
       "\n",
       "    .dataframe tbody tr th {\n",
       "        vertical-align: top;\n",
       "    }\n",
       "\n",
       "    .dataframe thead th {\n",
       "        text-align: right;\n",
       "    }\n",
       "</style>\n",
       "<table border=\"1\" class=\"dataframe\">\n",
       "  <thead>\n",
       "    <tr style=\"text-align: right;\">\n",
       "      <th></th>\n",
       "      <th>CustomerSupport</th>\n",
       "      <th>EmailClickthrough</th>\n",
       "      <th>EmailOpen</th>\n",
       "      <th>FormSubmit</th>\n",
       "      <th>PageView</th>\n",
       "      <th>Purchase</th>\n",
       "      <th>WebVisit</th>\n",
       "    </tr>\n",
       "    <tr>\n",
       "      <th>user_id</th>\n",
       "      <th></th>\n",
       "      <th></th>\n",
       "      <th></th>\n",
       "      <th></th>\n",
       "      <th></th>\n",
       "      <th></th>\n",
       "      <th></th>\n",
       "    </tr>\n",
       "  </thead>\n",
       "  <tbody>\n",
       "    <tr>\n",
       "      <th>00002acbe042d69</th>\n",
       "      <td>0</td>\n",
       "      <td>0</td>\n",
       "      <td>9</td>\n",
       "      <td>1</td>\n",
       "      <td>0</td>\n",
       "      <td>0</td>\n",
       "      <td>0</td>\n",
       "    </tr>\n",
       "    <tr>\n",
       "      <th>0000a3a34bd07e6</th>\n",
       "      <td>0</td>\n",
       "      <td>0</td>\n",
       "      <td>20</td>\n",
       "      <td>0</td>\n",
       "      <td>0</td>\n",
       "      <td>0</td>\n",
       "      <td>0</td>\n",
       "    </tr>\n",
       "    <tr>\n",
       "      <th>0000ecf58c94668</th>\n",
       "      <td>1</td>\n",
       "      <td>1</td>\n",
       "      <td>11</td>\n",
       "      <td>1</td>\n",
       "      <td>0</td>\n",
       "      <td>6</td>\n",
       "      <td>0</td>\n",
       "    </tr>\n",
       "    <tr>\n",
       "      <th>00012205dd4613b</th>\n",
       "      <td>0</td>\n",
       "      <td>0</td>\n",
       "      <td>2</td>\n",
       "      <td>0</td>\n",
       "      <td>0</td>\n",
       "      <td>0</td>\n",
       "      <td>0</td>\n",
       "    </tr>\n",
       "    <tr>\n",
       "      <th>000198d39a568cf</th>\n",
       "      <td>1</td>\n",
       "      <td>0</td>\n",
       "      <td>0</td>\n",
       "      <td>0</td>\n",
       "      <td>0</td>\n",
       "      <td>1</td>\n",
       "      <td>0</td>\n",
       "    </tr>\n",
       "  </tbody>\n",
       "</table>\n",
       "</div>"
      ],
      "text/plain": [
       "                 CustomerSupport  EmailClickthrough  EmailOpen  FormSubmit  \\\n",
       "user_id                                                                      \n",
       "00002acbe042d69                0                  0          9           1   \n",
       "0000a3a34bd07e6                0                  0         20           0   \n",
       "0000ecf58c94668                1                  1         11           1   \n",
       "00012205dd4613b                0                  0          2           0   \n",
       "000198d39a568cf                1                  0          0           0   \n",
       "\n",
       "                 PageView  Purchase  WebVisit  \n",
       "user_id                                        \n",
       "00002acbe042d69         0         0         0  \n",
       "0000a3a34bd07e6         0         0         0  \n",
       "0000ecf58c94668         0         6         0  \n",
       "00012205dd4613b         0         0         0  \n",
       "000198d39a568cf         0         1         0  "
      ]
     },
     "execution_count": 12,
     "metadata": {},
     "output_type": "execute_result"
    }
   ],
   "source": [
    "# group by user_id and count activity type with number of date.\n",
    "grouped = training.groupby(['user_id', 'activity_type']).count() \n",
    "df = grouped.unstack(fill_value=0)\n",
    "df = df.reset_index()\n",
    "df.columns = df.columns.droplevel()\n",
    "df.rename(index=str,columns={'': 'user_id'},inplace=True)\n",
    "del df.columns.name\n",
    "df.set_index('user_id',inplace=True)\n",
    "df.head()"
   ]
  },
  {
   "cell_type": "code",
   "execution_count": 13,
   "metadata": {},
   "outputs": [
    {
     "data": {
      "text/html": [
       "<div>\n",
       "<style scoped>\n",
       "    .dataframe tbody tr th:only-of-type {\n",
       "        vertical-align: middle;\n",
       "    }\n",
       "\n",
       "    .dataframe tbody tr th {\n",
       "        vertical-align: top;\n",
       "    }\n",
       "\n",
       "    .dataframe thead th {\n",
       "        text-align: right;\n",
       "    }\n",
       "</style>\n",
       "<table border=\"1\" class=\"dataframe\">\n",
       "  <thead>\n",
       "    <tr style=\"text-align: right;\">\n",
       "      <th></th>\n",
       "      <th>CustomerSupport</th>\n",
       "      <th>EmailClickthrough</th>\n",
       "      <th>EmailOpen</th>\n",
       "      <th>FormSubmit</th>\n",
       "      <th>PageView</th>\n",
       "      <th>WebVisit</th>\n",
       "      <th>Purchase</th>\n",
       "    </tr>\n",
       "    <tr>\n",
       "      <th>user_id</th>\n",
       "      <th></th>\n",
       "      <th></th>\n",
       "      <th></th>\n",
       "      <th></th>\n",
       "      <th></th>\n",
       "      <th></th>\n",
       "      <th></th>\n",
       "    </tr>\n",
       "  </thead>\n",
       "  <tbody>\n",
       "    <tr>\n",
       "      <th>00002acbe042d69</th>\n",
       "      <td>0</td>\n",
       "      <td>0</td>\n",
       "      <td>9</td>\n",
       "      <td>1</td>\n",
       "      <td>0</td>\n",
       "      <td>0</td>\n",
       "      <td>0</td>\n",
       "    </tr>\n",
       "    <tr>\n",
       "      <th>0000a3a34bd07e6</th>\n",
       "      <td>0</td>\n",
       "      <td>0</td>\n",
       "      <td>20</td>\n",
       "      <td>0</td>\n",
       "      <td>0</td>\n",
       "      <td>0</td>\n",
       "      <td>0</td>\n",
       "    </tr>\n",
       "    <tr>\n",
       "      <th>0000ecf58c94668</th>\n",
       "      <td>1</td>\n",
       "      <td>1</td>\n",
       "      <td>11</td>\n",
       "      <td>1</td>\n",
       "      <td>0</td>\n",
       "      <td>0</td>\n",
       "      <td>6</td>\n",
       "    </tr>\n",
       "    <tr>\n",
       "      <th>00012205dd4613b</th>\n",
       "      <td>0</td>\n",
       "      <td>0</td>\n",
       "      <td>2</td>\n",
       "      <td>0</td>\n",
       "      <td>0</td>\n",
       "      <td>0</td>\n",
       "      <td>0</td>\n",
       "    </tr>\n",
       "    <tr>\n",
       "      <th>000198d39a568cf</th>\n",
       "      <td>1</td>\n",
       "      <td>0</td>\n",
       "      <td>0</td>\n",
       "      <td>0</td>\n",
       "      <td>0</td>\n",
       "      <td>0</td>\n",
       "      <td>1</td>\n",
       "    </tr>\n",
       "  </tbody>\n",
       "</table>\n",
       "</div>"
      ],
      "text/plain": [
       "                 CustomerSupport  EmailClickthrough  EmailOpen  FormSubmit  \\\n",
       "user_id                                                                      \n",
       "00002acbe042d69                0                  0          9           1   \n",
       "0000a3a34bd07e6                0                  0         20           0   \n",
       "0000ecf58c94668                1                  1         11           1   \n",
       "00012205dd4613b                0                  0          2           0   \n",
       "000198d39a568cf                1                  0          0           0   \n",
       "\n",
       "                 PageView  WebVisit  Purchase  \n",
       "user_id                                        \n",
       "00002acbe042d69         0         0         0  \n",
       "0000a3a34bd07e6         0         0         0  \n",
       "0000ecf58c94668         0         0         6  \n",
       "00012205dd4613b         0         0         0  \n",
       "000198d39a568cf         0         0         1  "
      ]
     },
     "execution_count": 13,
     "metadata": {},
     "output_type": "execute_result"
    }
   ],
   "source": [
    "# rearrange columns such that Purchase appear at the end.\n",
    "df= df[['CustomerSupport','EmailClickthrough','EmailOpen',\n",
    "        'FormSubmit','PageView','WebVisit','Purchase']]\n",
    "df.head()"
   ]
  },
  {
   "cell_type": "code",
   "execution_count": 14,
   "metadata": {},
   "outputs": [
    {
     "data": {
      "image/png": "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\n",
      "text/plain": [
       "<matplotlib.figure.Figure at 0x10b59a5c0>"
      ]
     },
     "metadata": {},
     "output_type": "display_data"
    }
   ],
   "source": [
    "# very skew. plot in log scale. \n",
    "plt.hist(df.Purchase,bins=30,log=True);\n"
   ]
  },
  {
   "cell_type": "markdown",
   "metadata": {},
   "source": [
    "### change purchase to 0 if value =0 and 1 if value >=1"
   ]
  },
  {
   "cell_type": "code",
   "execution_count": 15,
   "metadata": {},
   "outputs": [
    {
     "data": {
      "text/html": [
       "<div>\n",
       "<style scoped>\n",
       "    .dataframe tbody tr th:only-of-type {\n",
       "        vertical-align: middle;\n",
       "    }\n",
       "\n",
       "    .dataframe tbody tr th {\n",
       "        vertical-align: top;\n",
       "    }\n",
       "\n",
       "    .dataframe thead th {\n",
       "        text-align: right;\n",
       "    }\n",
       "</style>\n",
       "<table border=\"1\" class=\"dataframe\">\n",
       "  <thead>\n",
       "    <tr style=\"text-align: right;\">\n",
       "      <th></th>\n",
       "      <th>CustomerSupport</th>\n",
       "      <th>EmailClickthrough</th>\n",
       "      <th>EmailOpen</th>\n",
       "      <th>FormSubmit</th>\n",
       "      <th>PageView</th>\n",
       "      <th>WebVisit</th>\n",
       "      <th>Purchase</th>\n",
       "    </tr>\n",
       "    <tr>\n",
       "      <th>user_id</th>\n",
       "      <th></th>\n",
       "      <th></th>\n",
       "      <th></th>\n",
       "      <th></th>\n",
       "      <th></th>\n",
       "      <th></th>\n",
       "      <th></th>\n",
       "    </tr>\n",
       "  </thead>\n",
       "  <tbody>\n",
       "    <tr>\n",
       "      <th>00002acbe042d69</th>\n",
       "      <td>0</td>\n",
       "      <td>0</td>\n",
       "      <td>9</td>\n",
       "      <td>1</td>\n",
       "      <td>0</td>\n",
       "      <td>0</td>\n",
       "      <td>0</td>\n",
       "    </tr>\n",
       "    <tr>\n",
       "      <th>0000a3a34bd07e6</th>\n",
       "      <td>0</td>\n",
       "      <td>0</td>\n",
       "      <td>20</td>\n",
       "      <td>0</td>\n",
       "      <td>0</td>\n",
       "      <td>0</td>\n",
       "      <td>0</td>\n",
       "    </tr>\n",
       "    <tr>\n",
       "      <th>0000ecf58c94668</th>\n",
       "      <td>1</td>\n",
       "      <td>1</td>\n",
       "      <td>11</td>\n",
       "      <td>1</td>\n",
       "      <td>0</td>\n",
       "      <td>0</td>\n",
       "      <td>1</td>\n",
       "    </tr>\n",
       "    <tr>\n",
       "      <th>00012205dd4613b</th>\n",
       "      <td>0</td>\n",
       "      <td>0</td>\n",
       "      <td>2</td>\n",
       "      <td>0</td>\n",
       "      <td>0</td>\n",
       "      <td>0</td>\n",
       "      <td>0</td>\n",
       "    </tr>\n",
       "    <tr>\n",
       "      <th>000198d39a568cf</th>\n",
       "      <td>1</td>\n",
       "      <td>0</td>\n",
       "      <td>0</td>\n",
       "      <td>0</td>\n",
       "      <td>0</td>\n",
       "      <td>0</td>\n",
       "      <td>1</td>\n",
       "    </tr>\n",
       "  </tbody>\n",
       "</table>\n",
       "</div>"
      ],
      "text/plain": [
       "                 CustomerSupport  EmailClickthrough  EmailOpen  FormSubmit  \\\n",
       "user_id                                                                      \n",
       "00002acbe042d69                0                  0          9           1   \n",
       "0000a3a34bd07e6                0                  0         20           0   \n",
       "0000ecf58c94668                1                  1         11           1   \n",
       "00012205dd4613b                0                  0          2           0   \n",
       "000198d39a568cf                1                  0          0           0   \n",
       "\n",
       "                 PageView  WebVisit  Purchase  \n",
       "user_id                                        \n",
       "00002acbe042d69         0         0         0  \n",
       "0000a3a34bd07e6         0         0         0  \n",
       "0000ecf58c94668         0         0         1  \n",
       "00012205dd4613b         0         0         0  \n",
       "000198d39a568cf         0         0         1  "
      ]
     },
     "execution_count": 15,
     "metadata": {},
     "output_type": "execute_result"
    }
   ],
   "source": [
    "# classify the purchase into 0 (no purchase) and 1 (with at least 1 purchase).\n",
    "\n",
    "df['Purchase'][df.Purchase != 0] = 1\n",
    "df.head()"
   ]
  },
  {
   "cell_type": "markdown",
   "metadata": {},
   "source": [
    "### explore"
   ]
  },
  {
   "cell_type": "code",
   "execution_count": 16,
   "metadata": {},
   "outputs": [
    {
     "data": {
      "text/plain": [
       "<matplotlib.axes._subplots.AxesSubplot at 0x1a15a91e10>"
      ]
     },
     "execution_count": 16,
     "metadata": {},
     "output_type": "execute_result"
    },
    {
     "data": {
      "image/png": "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\n",
      "text/plain": [
       "<matplotlib.figure.Figure at 0x1a15a91908>"
      ]
     },
     "metadata": {},
     "output_type": "display_data"
    }
   ],
   "source": [
    "# number of non purchase and purchase.\n",
    "sns.countplot(x='Purchase',data = df)"
   ]
  },
  {
   "cell_type": "code",
   "execution_count": 17,
   "metadata": {},
   "outputs": [
    {
     "data": {
      "text/plain": [
       "0    237577\n",
       "1    103991\n",
       "Name: Purchase, dtype: int64"
      ]
     },
     "execution_count": 17,
     "metadata": {},
     "output_type": "execute_result"
    }
   ],
   "source": [
    "df.Purchase.value_counts()"
   ]
  },
  {
   "cell_type": "code",
   "execution_count": 18,
   "metadata": {},
   "outputs": [
    {
     "name": "stdout",
     "output_type": "stream",
     "text": [
      "percentage of purchase is 30.45%\n"
     ]
    }
   ],
   "source": [
    "\n",
    "print('percentage of purchase is ' + str(round((103991/(103991+237577)*100),2)) +'%')\n"
   ]
  },
  {
   "cell_type": "code",
   "execution_count": 19,
   "metadata": {},
   "outputs": [],
   "source": [
    "# correlation\n",
    "#plt.subplots(figsize=(12,9))\n",
    "#corrmat = df.corr()\n",
    "#sns.heatmap(corrmat,annot=True)\n",
    "#As long as one received customer support, one will purchase."
   ]
  },
  {
   "cell_type": "code",
   "execution_count": 20,
   "metadata": {},
   "outputs": [
    {
     "data": {
      "text/plain": [
       "1    103991\n",
       "Name: Purchase, dtype: int64"
      ]
     },
     "execution_count": 20,
     "metadata": {},
     "output_type": "execute_result"
    }
   ],
   "source": [
    "# number of receiving customer support\n",
    "df[df.CustomerSupport>0].Purchase.value_counts()"
   ]
  },
  {
   "cell_type": "markdown",
   "metadata": {},
   "source": [
    "For those who receive customer support, they all purchase"
   ]
  },
  {
   "cell_type": "code",
   "execution_count": 21,
   "metadata": {},
   "outputs": [
    {
     "data": {
      "text/plain": [
       "0    237577\n",
       "Name: Purchase, dtype: int64"
      ]
     },
     "execution_count": 21,
     "metadata": {},
     "output_type": "execute_result"
    }
   ],
   "source": [
    "# number of not receiving customer support \n",
    "df[df.CustomerSupport==0].Purchase.value_counts()"
   ]
  },
  {
   "cell_type": "markdown",
   "metadata": {},
   "source": [
    "For Those who do not receive customer support, they all do not purchase. "
   ]
  },
  {
   "cell_type": "code",
   "execution_count": 22,
   "metadata": {},
   "outputs": [],
   "source": [
    "df.drop('CustomerSupport',axis=1,inplace=True)\n",
    "# correlation\n",
    "#plt.subplots(figsize=(12,9))\n",
    "#corrmat = df.corr()\n",
    "#sns.heatmap(corrmat,annot=True)\n"
   ]
  },
  {
   "cell_type": "code",
   "execution_count": 23,
   "metadata": {},
   "outputs": [
    {
     "data": {
      "image/png": "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\n",
      "text/plain": [
       "<matplotlib.figure.Figure at 0x10d2865f8>"
      ]
     },
     "metadata": {},
     "output_type": "display_data"
    },
    {
     "data": {
      "text/plain": [
       "<matplotlib.figure.Figure at 0x10bdad438>"
      ]
     },
     "metadata": {},
     "output_type": "display_data"
    }
   ],
   "source": [
    "plt.subplots(figsize=(12,9))\n",
    "\n",
    "plt.subplot(2,3,1)\n",
    "plt.hist(df[df.Purchase>0].EmailClickthrough,bins=20,log=True,alpha=0.5,label='P');\n",
    "plt.hist(df[df.Purchase==0].EmailClickthrough,bins=20,log=True,alpha=0.5,label='N');\n",
    "plt.xlabel('EmailClickthrough')\n",
    "\n",
    "plt.legend()\n",
    "\n",
    "plt.subplot(2,3,2)\n",
    "plt.hist(df[df.Purchase>0].EmailOpen,bins=20,log=True,alpha=0.5,label='P');\n",
    "plt.hist(df[df.Purchase==0].EmailOpen,bins=20,log=True,alpha=0.5,label='N');\n",
    "plt.xlabel('EmailOpen')\n",
    "\n",
    "plt.subplot(2,3,3)\n",
    "plt.hist(df[df.Purchase>0].FormSubmit,bins=20,log=True,alpha=0.5);\n",
    "plt.hist(df[df.Purchase==0].FormSubmit,bins=20,log=True,alpha=0.5);\n",
    "plt.xlabel('FormSubmit')\n",
    "\n",
    "plt.subplot(2,3,4)\n",
    "plt.hist(df[df.Purchase>0].PageView,bins=20,log=True,alpha=0.5,label='P');\n",
    "plt.hist(df[df.Purchase==0].PageView,bins=20,log=True,alpha=0.5,label='N');\n",
    "plt.xlabel('PageView')\n",
    "\n",
    "plt.subplot(2,3,5)\n",
    "plt.hist(df[df.Purchase>0].WebVisit,bins=20,log=True,alpha=0.5,label='P');\n",
    "plt.hist(df[df.Purchase==0].WebVisit,bins=20,log=True,alpha=0.5,label='N');\n",
    "plt.xlabel('WebVisit')\n",
    "\n",
    "plt.tight_layout()\n",
    "plt.show()\n",
    "\n",
    "plt.savefig('./images/feature_hist.png')\n",
    "\n"
   ]
  },
  {
   "cell_type": "markdown",
   "metadata": {},
   "source": [
    "- The distributions are very skewed. "
   ]
  },
  {
   "cell_type": "code",
   "execution_count": 24,
   "metadata": {},
   "outputs": [
    {
     "data": {
      "text/html": [
       "<div>\n",
       "<style scoped>\n",
       "    .dataframe tbody tr th:only-of-type {\n",
       "        vertical-align: middle;\n",
       "    }\n",
       "\n",
       "    .dataframe tbody tr th {\n",
       "        vertical-align: top;\n",
       "    }\n",
       "\n",
       "    .dataframe thead th {\n",
       "        text-align: right;\n",
       "    }\n",
       "</style>\n",
       "<table border=\"1\" class=\"dataframe\">\n",
       "  <thead>\n",
       "    <tr style=\"text-align: right;\">\n",
       "      <th></th>\n",
       "      <th>EmailClickthrough</th>\n",
       "      <th>EmailOpen</th>\n",
       "      <th>FormSubmit</th>\n",
       "      <th>PageView</th>\n",
       "      <th>WebVisit</th>\n",
       "      <th>Purchase</th>\n",
       "    </tr>\n",
       "  </thead>\n",
       "  <tbody>\n",
       "    <tr>\n",
       "      <th>count</th>\n",
       "      <td>341568.000000</td>\n",
       "      <td>341568.000000</td>\n",
       "      <td>341568.000000</td>\n",
       "      <td>341568.000000</td>\n",
       "      <td>341568.000000</td>\n",
       "      <td>341568.000000</td>\n",
       "    </tr>\n",
       "    <tr>\n",
       "      <th>mean</th>\n",
       "      <td>0.836050</td>\n",
       "      <td>9.344353</td>\n",
       "      <td>0.515467</td>\n",
       "      <td>1.119142</td>\n",
       "      <td>1.124300</td>\n",
       "      <td>0.304452</td>\n",
       "    </tr>\n",
       "    <tr>\n",
       "      <th>std</th>\n",
       "      <td>4.460062</td>\n",
       "      <td>23.094718</td>\n",
       "      <td>2.806039</td>\n",
       "      <td>9.844066</td>\n",
       "      <td>9.837606</td>\n",
       "      <td>0.460176</td>\n",
       "    </tr>\n",
       "    <tr>\n",
       "      <th>min</th>\n",
       "      <td>0.000000</td>\n",
       "      <td>0.000000</td>\n",
       "      <td>0.000000</td>\n",
       "      <td>0.000000</td>\n",
       "      <td>0.000000</td>\n",
       "      <td>0.000000</td>\n",
       "    </tr>\n",
       "    <tr>\n",
       "      <th>25%</th>\n",
       "      <td>0.000000</td>\n",
       "      <td>1.000000</td>\n",
       "      <td>0.000000</td>\n",
       "      <td>0.000000</td>\n",
       "      <td>0.000000</td>\n",
       "      <td>0.000000</td>\n",
       "    </tr>\n",
       "    <tr>\n",
       "      <th>50%</th>\n",
       "      <td>0.000000</td>\n",
       "      <td>2.000000</td>\n",
       "      <td>0.000000</td>\n",
       "      <td>0.000000</td>\n",
       "      <td>0.000000</td>\n",
       "      <td>0.000000</td>\n",
       "    </tr>\n",
       "    <tr>\n",
       "      <th>75%</th>\n",
       "      <td>1.000000</td>\n",
       "      <td>8.000000</td>\n",
       "      <td>0.000000</td>\n",
       "      <td>0.000000</td>\n",
       "      <td>0.000000</td>\n",
       "      <td>1.000000</td>\n",
       "    </tr>\n",
       "    <tr>\n",
       "      <th>max</th>\n",
       "      <td>463.000000</td>\n",
       "      <td>630.000000</td>\n",
       "      <td>430.000000</td>\n",
       "      <td>596.000000</td>\n",
       "      <td>596.000000</td>\n",
       "      <td>1.000000</td>\n",
       "    </tr>\n",
       "  </tbody>\n",
       "</table>\n",
       "</div>"
      ],
      "text/plain": [
       "       EmailClickthrough      EmailOpen     FormSubmit       PageView  \\\n",
       "count      341568.000000  341568.000000  341568.000000  341568.000000   \n",
       "mean            0.836050       9.344353       0.515467       1.119142   \n",
       "std             4.460062      23.094718       2.806039       9.844066   \n",
       "min             0.000000       0.000000       0.000000       0.000000   \n",
       "25%             0.000000       1.000000       0.000000       0.000000   \n",
       "50%             0.000000       2.000000       0.000000       0.000000   \n",
       "75%             1.000000       8.000000       0.000000       0.000000   \n",
       "max           463.000000     630.000000     430.000000     596.000000   \n",
       "\n",
       "            WebVisit       Purchase  \n",
       "count  341568.000000  341568.000000  \n",
       "mean        1.124300       0.304452  \n",
       "std         9.837606       0.460176  \n",
       "min         0.000000       0.000000  \n",
       "25%         0.000000       0.000000  \n",
       "50%         0.000000       0.000000  \n",
       "75%         0.000000       1.000000  \n",
       "max       596.000000       1.000000  "
      ]
     },
     "execution_count": 24,
     "metadata": {},
     "output_type": "execute_result"
    }
   ],
   "source": [
    "# statistics of the data set\n",
    "df.describe()"
   ]
  },
  {
   "cell_type": "markdown",
   "metadata": {},
   "source": [
    "## build model"
   ]
  },
  {
   "cell_type": "markdown",
   "metadata": {},
   "source": [
    "### split training set to training and validation set"
   ]
  },
  {
   "cell_type": "code",
   "execution_count": 25,
   "metadata": {},
   "outputs": [],
   "source": [
    "# remove custormersupport from train set \n",
    "X = df.drop('Purchase',axis=1)\n",
    "y = df.Purchase\n",
    "\n",
    "# create train and test set\n",
    "from sklearn.model_selection import train_test_split\n",
    "X_train, X_test, y_train, y_test = train_test_split(X, y, test_size=0.3, random_state=2018)\n"
   ]
  },
  {
   "cell_type": "code",
   "execution_count": 26,
   "metadata": {},
   "outputs": [
    {
     "name": "stdout",
     "output_type": "stream",
     "text": [
      "69.5548177815252\n"
     ]
    }
   ],
   "source": [
    "blind_guess_score = sum(1-y)/float(len(y))\n",
    "print (100*float(sum(1-y))/len(y))"
   ]
  },
  {
   "cell_type": "markdown",
   "metadata": {},
   "source": [
    "Random guessing is correct 70% of the time."
   ]
  },
  {
   "cell_type": "markdown",
   "metadata": {},
   "source": [
    "### Decision Tree"
   ]
  },
  {
   "cell_type": "code",
   "execution_count": 40,
   "metadata": {},
   "outputs": [],
   "source": [
    "#from sklearn.ensemble import RandomForestClassifier\n",
    "from sklearn.tree import DecisionTreeClassifier\n",
    "\n",
    "from sklearn.model_selection import cross_val_score\n",
    "#random_clf = RandomForestClassifier(max_depth=4)\n",
    "tree_clf = DecisionTreeClassifier(max_depth=3)\n",
    "\n",
    "# do cross validation and calculate accuracy \n",
    "tree_acc = cross_val_score(tree_clf,X_train,y_train)\n",
    "# do cross validation and calculate f1 score\n",
    "tree_f1 = cross_val_score(tree_clf,X_train,y_train,scoring='f1')\n"
   ]
  },
  {
   "cell_type": "code",
   "execution_count": 41,
   "metadata": {},
   "outputs": [
    {
     "data": {
      "text/plain": [
       "(0.8876104731114891, 0.7894981580794599)"
      ]
     },
     "execution_count": 41,
     "metadata": {},
     "output_type": "execute_result"
    }
   ],
   "source": [
    "np.mean(tree_acc),np.mean(tree_f1)"
   ]
  },
  {
   "cell_type": "code",
   "execution_count": 42,
   "metadata": {},
   "outputs": [
    {
     "data": {
      "text/plain": [
       "DecisionTreeClassifier(class_weight=None, criterion='gini', max_depth=3,\n",
       "            max_features=None, max_leaf_nodes=None,\n",
       "            min_impurity_decrease=0.0, min_impurity_split=None,\n",
       "            min_samples_leaf=1, min_samples_split=2,\n",
       "            min_weight_fraction_leaf=0.0, presort=False, random_state=None,\n",
       "            splitter='best')"
      ]
     },
     "execution_count": 42,
     "metadata": {},
     "output_type": "execute_result"
    }
   ],
   "source": [
    "# train random forest model\n",
    "tree_clf.fit(X_train,y_train)\n",
    "#tree_clf.fit(X_train,y_train)"
   ]
  },
  {
   "cell_type": "code",
   "execution_count": 43,
   "metadata": {},
   "outputs": [
    {
     "data": {
      "text/plain": [
       "array([[162158,   4124],\n",
       "       [ 22627,  50188]])"
      ]
     },
     "execution_count": 43,
     "metadata": {},
     "output_type": "execute_result"
    }
   ],
   "source": [
    "# calculate confusion matrix\n",
    "from sklearn.metrics import confusion_matrix,classification_report\n",
    "y_train_pred = tree_clf.predict(X_train)\n",
    "confusion_matrix(y_train, y_train_pred)"
   ]
  },
  {
   "cell_type": "markdown",
   "metadata": {},
   "source": [
    "- FN: 20080, FP: 406\n",
    "- the model tends to identify less true purchase.\n"
   ]
  },
  {
   "cell_type": "code",
   "execution_count": null,
   "metadata": {},
   "outputs": [],
   "source": [
    "#print(classification_report(y_train, y_train_pred))"
   ]
  },
  {
   "cell_type": "markdown",
   "metadata": {},
   "source": [
    "## apply model to validation set"
   ]
  },
  {
   "cell_type": "code",
   "execution_count": 44,
   "metadata": {},
   "outputs": [
    {
     "data": {
      "text/plain": [
       "array([0.88936382, 0.88608484, 0.88795854])"
      ]
     },
     "execution_count": 44,
     "metadata": {},
     "output_type": "execute_result"
    }
   ],
   "source": [
    "# accuracy\n",
    "cross_val_score(tree_clf,X_test,y_test)"
   ]
  },
  {
   "cell_type": "markdown",
   "metadata": {},
   "source": [
    "validation set has similar accuracy score as training set."
   ]
  },
  {
   "cell_type": "code",
   "execution_count": 45,
   "metadata": {},
   "outputs": [],
   "source": [
    "# predict y_test\n",
    "y_test_pred = tree_clf.predict(X_test)"
   ]
  },
  {
   "cell_type": "code",
   "execution_count": 46,
   "metadata": {},
   "outputs": [
    {
     "data": {
      "text/html": [
       "<div>\n",
       "<style scoped>\n",
       "    .dataframe tbody tr th:only-of-type {\n",
       "        vertical-align: middle;\n",
       "    }\n",
       "\n",
       "    .dataframe tbody tr th {\n",
       "        vertical-align: top;\n",
       "    }\n",
       "\n",
       "    .dataframe thead th {\n",
       "        text-align: right;\n",
       "    }\n",
       "</style>\n",
       "<table border=\"1\" class=\"dataframe\">\n",
       "  <thead>\n",
       "    <tr style=\"text-align: right;\">\n",
       "      <th></th>\n",
       "      <th>accuracy</th>\n",
       "      <th>f1</th>\n",
       "      <th>precision</th>\n",
       "      <th>recall</th>\n",
       "    </tr>\n",
       "  </thead>\n",
       "  <tbody>\n",
       "    <tr>\n",
       "      <th>0</th>\n",
       "      <td>0.888105</td>\n",
       "      <td>0.789669</td>\n",
       "      <td>0.922273</td>\n",
       "      <td>0.690403</td>\n",
       "    </tr>\n",
       "  </tbody>\n",
       "</table>\n",
       "</div>"
      ],
      "text/plain": [
       "   accuracy        f1  precision    recall\n",
       "0  0.888105  0.789669   0.922273  0.690403"
      ]
     },
     "execution_count": 46,
     "metadata": {},
     "output_type": "execute_result"
    }
   ],
   "source": [
    "# calculate accuracy, precision, recall, f1\n",
    "from sklearn.metrics import accuracy_score,precision_score,recall_score,f1_score\n",
    "s_accuracy = accuracy_score(y_test, y_test_pred)\n",
    "s_precision = precision_score(y_test, y_test_pred)\n",
    "s_recall = recall_score(y_test, y_test_pred)\n",
    "s_f1 = f1_score(y_test, y_test_pred)\n",
    "\n",
    "s_table = {'accuracy': s_accuracy, 'precision': s_precision, 'recall': s_recall,'f1':s_f1}\n",
    "pd.DataFrame(s_table,index=[0])"
   ]
  },
  {
   "cell_type": "markdown",
   "metadata": {},
   "source": [
    "precision: if it claims it is a purchase, it is 91% right\n",
    "\n",
    "recall:   capture 68% of the purchase. "
   ]
  },
  {
   "cell_type": "code",
   "execution_count": 47,
   "metadata": {},
   "outputs": [
    {
     "data": {
      "text/plain": [
       "(Index(['EmailClickthrough', 'EmailOpen', 'FormSubmit', 'PageView', 'WebVisit'], dtype='object'),\n",
       " array([1.07379496e-01, 6.22440627e-01, 2.69938392e-01, 2.41485918e-04,\n",
       "        0.00000000e+00]))"
      ]
     },
     "execution_count": 47,
     "metadata": {},
     "output_type": "execute_result"
    }
   ],
   "source": [
    "X.columns,tree_clf.feature_importances_"
   ]
  },
  {
   "cell_type": "code",
   "execution_count": 48,
   "metadata": {
    "scrolled": true
   },
   "outputs": [
    {
     "data": {
      "image/png": "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\n",
      "text/plain": [
       "<matplotlib.figure.Figure at 0x10cedd7f0>"
      ]
     },
     "metadata": {},
     "output_type": "display_data"
    }
   ],
   "source": [
    "# identifying the most important factors.\n",
    "\n",
    "list_importance = tree_clf.feature_importances_\n",
    "list_name = df.columns\n",
    "list_importance, list_name = zip(*sorted(zip(list_importance, list_name)))\n",
    "plt.barh(range(len(list_importance)),list_importance)\n",
    "plt.yticks(range(len(list_name)),list_name)\n",
    "plt.title('Feature importance')\n",
    "plt.show()"
   ]
  },
  {
   "cell_type": "markdown",
   "metadata": {},
   "source": [
    "'EmailOpen' is the most useful feature, follows by 'FormSubmit', 'EmailClickthrough','WebVisit' and 'PageView'."
   ]
  },
  {
   "cell_type": "markdown",
   "metadata": {},
   "source": [
    "## decision surface"
   ]
  },
  {
   "cell_type": "code",
   "execution_count": 49,
   "metadata": {},
   "outputs": [],
   "source": [
    "from matplotlib.colors import ListedColormap\n",
    "custom_cmap = ListedColormap(['blue','red'])\n",
    "def plot_decision_surface(clf, X_train, Y_train):\n",
    "    Xmin0 = X_train[:, 0].min()\n",
    "    Xmin1 = X_train[:, 1].min()\n",
    "    Xmax0 = X_train[:, 0].max()\n",
    "    Xmax1 = X_train[:, 1].max() \n",
    "    \n",
    "    plot_step_0=(Xmax0-Xmin0)/50\n",
    "    plot_step_1=(Xmax1-Xmin1)/50\n",
    "\n",
    "\n",
    "    if X_train.shape[1] != 2:\n",
    "        raise ValueError(\"X_train should have exactly 2 columnns!\")\n",
    "    \n",
    "    x_min, x_max = Xmin0, Xmax0\n",
    "    y_min, y_max = Xmin1, Xmax1\n",
    "    xx, yy = np.meshgrid(np.arange(x_min, x_max, plot_step_0),\n",
    "                         np.arange(y_min, y_max, plot_step_1))\n",
    "\n",
    "    clf.fit(X_train,Y_train)\n",
    "\n",
    "    Z1 = clf.predict_proba(np.c_[xx.ravel(), yy.ravel()])[:,1]\n",
    "    Z2 = clf.predict(np.c_[xx.ravel(), yy.ravel()]) \n",
    "        \n",
    "    Z1 = Z1.reshape(xx.shape)-0.5\n",
    "    Z2 = Z2.reshape(xx.shape)\n",
    "    \n",
    "    cs = plt.contourf(xx, yy, Z2,alpha=0.3,cmap=custom_cmap, antialiased=True)\n",
    "\n",
    "\n",
    "    #plt.colorbar()\n",
    "    #cs2 = plt.contour(xx, yy, Z1,alpha=0.7,vmax=.5,cmap=plt.get_cmap('seismic'))\n",
    "    \n",
    "    plt.scatter(X_train[::50,0],X_train[::50,1],c=Y_train[::50],cmap=custom_cmap,alpha=0.5)\n",
    "    #plt.show()\n",
    "    return Z2"
   ]
  },
  {
   "cell_type": "code",
   "execution_count": 50,
   "metadata": {},
   "outputs": [
    {
     "data": {
      "text/plain": [
       "Text(0.5,1,'Decision Surface')"
      ]
     },
     "execution_count": 50,
     "metadata": {},
     "output_type": "execute_result"
    },
    {
     "data": {
      "image/png": "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\n",
      "text/plain": [
       "<matplotlib.figure.Figure at 0x1a178183c8>"
      ]
     },
     "metadata": {},
     "output_type": "display_data"
    }
   ],
   "source": [
    "Xt = X_train.iloc[:,1:3].values\n",
    "plt.subplots(figsize=(9,6))\n",
    "\n",
    "Z = plot_decision_surface(tree_clf,Xt,y_train)\n",
    "plt.xlim(0,200)\n",
    "plt.ylim(0,20)\n",
    "plt.xlabel('EmailOpen')\n",
    "plt.ylabel('FormSubmit')\n",
    "plt.title('Decision Surface')"
   ]
  },
  {
   "cell_type": "markdown",
   "metadata": {},
   "source": [
    "- The decision surface is very clear-cut and has low sensitivity. Therefore, the model should be quite robust to new data set. \n",
    "- Based on this, we can say that users who open email more than 30 times and submit form more than 4 times are more likely to purchase."
   ]
  },
  {
   "cell_type": "markdown",
   "metadata": {},
   "source": [
    "## misc"
   ]
  },
  {
   "cell_type": "code",
   "execution_count": null,
   "metadata": {},
   "outputs": [],
   "source": [
    "Xt = X_train1[:,0:2]\n",
    "Z = plot_decision_surface(tree_clf,Xt,y_train)\n",
    "plt.xlim(0,0.1)\n",
    "plt.ylim(0,0.4)"
   ]
  },
  {
   "cell_type": "code",
   "execution_count": null,
   "metadata": {},
   "outputs": [],
   "source": [
    "from sklearn.ensemble import GradientBoostingClassifier\n",
    "gb_clf = GradientBoostingClassifier()\n",
    "gb_clf.fit(X_train,y_train)\n",
    "cross_val_score(gb_clf,X_train,y_train)\n"
   ]
  },
  {
   "cell_type": "code",
   "execution_count": null,
   "metadata": {},
   "outputs": [],
   "source": [
    "Xt = X_train1[:,0:2]\n",
    "Z = plot_decision_surface(gb_clf,Xt,y_train)\n",
    "plt.xlim(0,0.1)\n",
    "plt.ylim(0,0.4)"
   ]
  },
  {
   "cell_type": "code",
   "execution_count": null,
   "metadata": {},
   "outputs": [],
   "source": [
    "from sklearn.metrics import roc_curve\n",
    "gb_clf.fit(X_train,y_train)\n",
    "\n",
    "roc_curve(y_test,gb_clf.predict(X_test))"
   ]
  },
  {
   "cell_type": "code",
   "execution_count": null,
   "metadata": {},
   "outputs": [],
   "source": []
  }
 ],
 "metadata": {
  "kernelspec": {
   "display_name": "Python 3",
   "language": "python3",
   "name": "python3"
  },
  "language_info": {
   "codemirror_mode": {
    "name": "ipython",
    "version": 3
   },
   "file_extension": ".py",
   "mimetype": "text/x-python",
   "name": "python",
   "nbconvert_exporter": "python",
   "pygments_lexer": "ipython3",
   "version": "3.6.4"
  },
  "toc": {
   "base_numbering": 1,
   "nav_menu": {},
   "number_sections": true,
   "sideBar": true,
   "skip_h1_title": true,
   "title_cell": "Table of Contents",
   "title_sidebar": "Contents",
   "toc_cell": false,
   "toc_position": {
    "height": "calc(100% - 180px)",
    "left": "10px",
    "top": "150px",
    "width": "165px"
   },
   "toc_section_display": true,
   "toc_window_display": true
  }
 },
 "nbformat": 4,
 "nbformat_minor": 2
}
